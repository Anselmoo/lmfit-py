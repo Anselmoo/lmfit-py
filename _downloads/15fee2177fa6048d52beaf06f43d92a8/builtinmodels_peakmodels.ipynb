{
  "cells": [
    {
      "cell_type": "code",
      "execution_count": null,
      "metadata": {
        "collapsed": false
      },
      "outputs": [],
      "source": [
        "%matplotlib inline"
      ]
    },
    {
      "cell_type": "markdown",
      "metadata": {},
      "source": [
        "\ndoc_builtinmodels_peakmodels.py\n===============================\n"
      ]
    },
    {
      "cell_type": "code",
      "execution_count": null,
      "metadata": {
        "collapsed": false
      },
      "outputs": [],
      "source": [
        "##\nimport warnings\nwarnings.filterwarnings(\"ignore\")\n##\n# <examples/doc_builtinmodels_peakmodels.py>\nimport matplotlib.pyplot as plt\nfrom numpy import loadtxt\n\nfrom lmfit.models import GaussianModel, LorentzianModel, VoigtModel\n\ndata = loadtxt('test_peak.dat')\nx = data[:, 0]\ny = data[:, 1]\n\n\n# Gaussian model\nmod = GaussianModel()\npars = mod.guess(y, x=x)\nout = mod.fit(y, pars, x=x)\n\nprint(out.fit_report(min_correl=0.25))\n\nplt.plot(x, y, 'b-')\nplt.plot(x, out.best_fit, 'r-', label='Gaussian Model')\nplt.legend(loc='best')\nplt.show()\n\n\n# Lorentzian model\nmod = LorentzianModel()\npars = mod.guess(y, x=x)\nout = mod.fit(y, pars, x=x)\n\nprint(out.fit_report(min_correl=0.25))\n\nplt.figure()\nplt.plot(x, y, 'b-')\nplt.plot(x, out.best_fit, 'r-', label='Lorentzian Model')\nplt.legend(loc='best')\nplt.show()\n\n\n# Voigt model\nmod = VoigtModel()\npars = mod.guess(y, x=x)\nout = mod.fit(y, pars, x=x)\n\nprint(out.fit_report(min_correl=0.25))\n\nfig, axes = plt.subplots(1, 2, figsize=(12.8, 4.8))\n\naxes[0].plot(x, y, 'b-')\naxes[0].plot(x, out.best_fit, 'r-', label='Voigt Model\\ngamma constrained')\naxes[0].legend(loc='best')\n\n# free gamma parameter\npars['gamma'].set(value=0.7, vary=True, expr='')\nout_gamma = mod.fit(y, pars, x=x)\naxes[1].plot(x, y, 'b-')\naxes[1].plot(x, out_gamma.best_fit, 'r-', label='Voigt Model\\ngamma unconstrained')\naxes[1].legend(loc='best')\n\nplt.show()\n# <end examples/doc_builtinmodels_peakmodels.py>"
      ]
    }
  ],
  "metadata": {
    "kernelspec": {
      "display_name": "Python 3",
      "language": "python",
      "name": "python3"
    },
    "language_info": {
      "codemirror_mode": {
        "name": "ipython",
        "version": 3
      },
      "file_extension": ".py",
      "mimetype": "text/x-python",
      "name": "python",
      "nbconvert_exporter": "python",
      "pygments_lexer": "ipython3",
      "version": "3.7.4"
    }
  },
  "nbformat": 4,
  "nbformat_minor": 0
}