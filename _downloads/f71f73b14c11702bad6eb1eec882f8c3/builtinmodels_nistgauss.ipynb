{
  "cells": [
    {
      "cell_type": "code",
      "execution_count": null,
      "metadata": {
        "collapsed": false
      },
      "outputs": [],
      "source": [
        "%matplotlib inline"
      ]
    },
    {
      "cell_type": "markdown",
      "metadata": {},
      "source": [
        "\ndoc_builtinmodels_nistgauss.py\n==============================\n"
      ]
    },
    {
      "cell_type": "code",
      "execution_count": null,
      "metadata": {
        "collapsed": false
      },
      "outputs": [],
      "source": [
        "##\nimport warnings\nwarnings.filterwarnings(\"ignore\")\n##\n# <examples/doc_builtinmodels_nistgauss.py>\nimport matplotlib.pyplot as plt\nimport numpy as np\n\nfrom lmfit.models import ExponentialModel, GaussianModel\n\ndat = np.loadtxt('NIST_Gauss2.dat')\nx = dat[:, 1]\ny = dat[:, 0]\n\nexp_mod = ExponentialModel(prefix='exp_')\npars = exp_mod.guess(y, x=x)\n\ngauss1 = GaussianModel(prefix='g1_')\npars.update(gauss1.make_params())\n\npars['g1_center'].set(value=105, min=75, max=125)\npars['g1_sigma'].set(value=15, min=3)\npars['g1_amplitude'].set(value=2000, min=10)\n\ngauss2 = GaussianModel(prefix='g2_')\npars.update(gauss2.make_params())\n\npars['g2_center'].set(value=155, min=125, max=175)\npars['g2_sigma'].set(value=15, min=3)\npars['g2_amplitude'].set(value=2000, min=10)\n\nmod = gauss1 + gauss2 + exp_mod\n\ninit = mod.eval(pars, x=x)\nout = mod.fit(y, pars, x=x)\n\nprint(out.fit_report(min_correl=0.5))\n\nfig, axes = plt.subplots(1, 2, figsize=(12.8, 4.8))\naxes[0].plot(x, y, 'b')\naxes[0].plot(x, init, 'k--', label='initial fit')\naxes[0].plot(x, out.best_fit, 'r-', label='best fit')\naxes[0].legend(loc='best')\n\ncomps = out.eval_components(x=x)\naxes[1].plot(x, y, 'b')\naxes[1].plot(x, comps['g1_'], 'g--', label='Gaussian component 1')\naxes[1].plot(x, comps['g2_'], 'm--', label='Gaussian component 2')\naxes[1].plot(x, comps['exp_'], 'k--', label='Exponential component')\naxes[1].legend(loc='best')\n\nplt.show()\n# <end examples/doc_builtinmodels_nistgauss.py>"
      ]
    }
  ],
  "metadata": {
    "kernelspec": {
      "display_name": "Python 3",
      "language": "python",
      "name": "python3"
    },
    "language_info": {
      "codemirror_mode": {
        "name": "ipython",
        "version": 3
      },
      "file_extension": ".py",
      "mimetype": "text/x-python",
      "name": "python",
      "nbconvert_exporter": "python",
      "pygments_lexer": "ipython3",
      "version": "3.7.7"
    }
  },
  "nbformat": 4,
  "nbformat_minor": 0
}
