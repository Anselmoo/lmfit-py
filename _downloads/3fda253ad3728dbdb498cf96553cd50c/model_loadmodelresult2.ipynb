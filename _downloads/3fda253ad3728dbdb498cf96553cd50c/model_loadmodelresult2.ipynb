{
  "cells": [
    {
      "cell_type": "code",
      "execution_count": null,
      "metadata": {
        "collapsed": false
      },
      "outputs": [],
      "source": [
        "%matplotlib inline"
      ]
    },
    {
      "cell_type": "markdown",
      "metadata": {},
      "source": [
        "\ndoc_model_loadmodelresult2.py\n=============================\n"
      ]
    },
    {
      "cell_type": "code",
      "execution_count": null,
      "metadata": {
        "collapsed": false
      },
      "outputs": [],
      "source": [
        "##\nimport warnings\nwarnings.filterwarnings(\"ignore\")\n##\n# <examples/doc_model_loadmodelresult2.py>\nimport matplotlib.pyplot as plt\nimport numpy as np\n\nfrom lmfit.model import load_modelresult\n\ndat = np.loadtxt('NIST_Gauss2.dat')\nx = dat[:, 1]\ny = dat[:, 0]\n\nresult = load_modelresult('nistgauss_modelresult.sav')\nprint(result.fit_report())\n\nplt.plot(x, y, 'bo')\nplt.plot(x, result.best_fit, 'r-')\nplt.show()\n# <end examples/doc_model_loadmodelresult2.py>"
      ]
    }
  ],
  "metadata": {
    "kernelspec": {
      "display_name": "Python 3",
      "language": "python",
      "name": "python3"
    },
    "language_info": {
      "codemirror_mode": {
        "name": "ipython",
        "version": 3
      },
      "file_extension": ".py",
      "mimetype": "text/x-python",
      "name": "python",
      "nbconvert_exporter": "python",
      "pygments_lexer": "ipython3",
      "version": "3.7.3"
    }
  },
  "nbformat": 4,
  "nbformat_minor": 0
}
