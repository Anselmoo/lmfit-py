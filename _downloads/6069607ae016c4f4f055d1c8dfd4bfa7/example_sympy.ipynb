{
  "cells": [
    {
      "cell_type": "code",
      "execution_count": null,
      "metadata": {
        "collapsed": false
      },
      "outputs": [],
      "source": [
        "%matplotlib inline"
      ]
    },
    {
      "cell_type": "markdown",
      "metadata": {},
      "source": [
        "\n# Building a lmfit model with SymPy\n\nSymPy is a Python library for symbolic mathematics. It can be very useful to\nbuild a model with sympy and then use that apply that model to the data with\nlmfit. This example shows how to do that. Notice, that this example requires\nboth sympy and matplotlib.\n"
      ]
    },
    {
      "cell_type": "code",
      "execution_count": null,
      "metadata": {
        "collapsed": false
      },
      "outputs": [],
      "source": [
        "import matplotlib.pyplot as plt\nimport numpy as np\nimport sympy\nfrom sympy.parsing import sympy_parser\n\nimport lmfit\n\nnp.random.seed(1)"
      ]
    },
    {
      "cell_type": "markdown",
      "metadata": {},
      "source": [
        "Instead of creating the sympy-sybols explicitly and building an expression\nwith  them, we will use the sympy parser.\n\n"
      ]
    },
    {
      "cell_type": "code",
      "execution_count": null,
      "metadata": {
        "collapsed": false
      },
      "outputs": [],
      "source": [
        "gauss_peak1 = sympy_parser.parse_expr('A1*exp(-(x-xc1)**2/(2*sigma1**2))')\ngauss_peak2 = sympy_parser.parse_expr('A2*exp(-(x-xc2)**2/(2*sigma2**2))')\nexp_back = sympy_parser.parse_expr('B*exp(-x/xw)')\n\nmodel_list = sympy.Array((gauss_peak1, gauss_peak2, exp_back))\nmodel = sum(model_list)\nmodel"
      ]
    },
    {
      "cell_type": "markdown",
      "metadata": {},
      "source": [
        "We are using sympys lambdify function to make a function from the model\nexpressions. We use these functions to generate some fake data.\n\n"
      ]
    },
    {
      "cell_type": "code",
      "execution_count": null,
      "metadata": {
        "collapsed": false
      },
      "outputs": [],
      "source": [
        "model_list_func = sympy.lambdify(list(model_list.free_symbols), model_list)\nmodel_func = sympy.lambdify(list(model.free_symbols), model)\n\nx = np.linspace(0, 10, 40)\nparam_values = dict(x=x, A1=2, sigma1=1, sigma2=1, A2=3,\n                    xc1=2, xc2=5, xw=4, B=5)\ny = model_func(**param_values)\nyi = model_list_func(**param_values)\nyn = y + np.random.randn(y.size)*0.4\n\nplt.plot(x, yn, 'o', zorder=1.9, ms=3)\nplt.plot(x, y, lw=3)\nfor c in yi:\n    plt.plot(x, c, lw=1, c='0.7')"
      ]
    },
    {
      "cell_type": "markdown",
      "metadata": {},
      "source": [
        "Next, we will just create a lmfit model from the function and fit the data.\n\n"
      ]
    },
    {
      "cell_type": "code",
      "execution_count": null,
      "metadata": {
        "collapsed": false
      },
      "outputs": [],
      "source": [
        "lm_mod = lmfit.Model(model_func, independent_vars=('x'))\nres = lm_mod.fit(data=yn, **param_values)\nres.plot_fit()\nplt.plot(x, y, label='true')\nplt.legend()\n\nres"
      ]
    },
    {
      "cell_type": "markdown",
      "metadata": {},
      "source": [
        "The nice thing of using sympy is that we can easily modify our fit function.\nLet's assume we know that the width of both gaussians is identical. Simliary,\nwe assume that the ratio between both gaussians is fixed to 3:2 for some\nreason. Both can be expressed by just substituting the variables.\n\n"
      ]
    },
    {
      "cell_type": "code",
      "execution_count": null,
      "metadata": {
        "collapsed": false
      },
      "outputs": [],
      "source": [
        "model2 = model.subs('sigma2', 'sigma1').subs('A2', '3/2*A1')\nmodel2_func = sympy.lambdify(list(model2.free_symbols), model2)\nlm_mod = lmfit.Model(model2_func, independent_vars=('x'))\nparam2_values = dict(x=x, A1=2, sigma1=1, A2=3, xc1=2, xc2=5, xw=4, B=5)\nres2 = lm_mod.fit(data=yn, **param_values)\nres2.plot_fit()\nplt.plot(x, y, label='true')\nplt.legend()\n\nres2"
      ]
    }
  ],
  "metadata": {
    "kernelspec": {
      "display_name": "Python 3",
      "language": "python",
      "name": "python3"
    },
    "language_info": {
      "codemirror_mode": {
        "name": "ipython",
        "version": 3
      },
      "file_extension": ".py",
      "mimetype": "text/x-python",
      "name": "python",
      "nbconvert_exporter": "python",
      "pygments_lexer": "ipython3",
      "version": "3.8.5"
    }
  },
  "nbformat": 4,
  "nbformat_minor": 0
}